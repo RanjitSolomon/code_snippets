{
 "cells": [
  {
   "cell_type": "markdown",
   "id": "5903be42-a608-48b4-827b-c4d400f48b61",
   "metadata": {},
   "source": [
    "# Simple Machine Learning Code Tutorial for Beginners with Sklearn\n",
    "\n",
    "https://www.youtube.com/watch?v=-IvNzmrcyUM"
   ]
  },
  {
   "cell_type": "code",
   "execution_count": 1,
   "id": "fc67b976-e8e9-4b3d-89ee-cb3f0be2dba5",
   "metadata": {},
   "outputs": [],
   "source": [
    "# uv init ml_proj\n",
    "# uv add scikit-learn\n",
    "# uv run --with  jupyter jupyter lab"
   ]
  },
  {
   "cell_type": "code",
   "execution_count": 2,
   "id": "d720a619-9998-432d-a9e0-3d1cdb607990",
   "metadata": {},
   "outputs": [],
   "source": [
    "from  sklearn import datasets \n",
    "from sklearn.model_selection import train_test_split\n",
    "from sklearn.linear_model import LinearRegression \n",
    "from sklearn.metrics import r2_score\n",
    "from sklearn.preprocessing import PolynomialFeatures\n",
    "from sklearn.ensemble import GradientBoostingRegressor, RandomForestRegressor, HistGradientBoostingRegressor\n",
    "import joblib"
   ]
  },
  {
   "cell_type": "code",
   "execution_count": 3,
   "id": "b5a72f20-333c-4551-8f04-41a732f42596",
   "metadata": {},
   "outputs": [],
   "source": [
    "housing = datasets.fetch_california_housing()"
   ]
  },
  {
   "cell_type": "code",
   "execution_count": 3,
   "id": "e4cfd4f8-5a43-40e1-98a9-92e08664d018",
   "metadata": {},
   "outputs": [
    {
     "name": "stdout",
     "output_type": "stream",
     "text": [
      "['MedInc', 'HouseAge', 'AveRooms', 'AveBedrms', 'Population', 'AveOccup', 'Latitude', 'Longitude']\n"
     ]
    }
   ],
   "source": [
    "print(housing.feature_names)"
   ]
  },
  {
   "cell_type": "code",
   "execution_count": 4,
   "id": "d0d1dd48-3a97-4568-ba0d-9ed1c7946741",
   "metadata": {},
   "outputs": [],
   "source": [
    "X = housing.data"
   ]
  },
  {
   "cell_type": "code",
   "execution_count": 5,
   "id": "703b7814-0631-461f-b54c-3a39e77bcea2",
   "metadata": {},
   "outputs": [],
   "source": [
    "y = housing.target"
   ]
  },
  {
   "cell_type": "code",
   "execution_count": 7,
   "id": "62b9d03e-8f4c-4a2f-b37a-fe6529bf4e3d",
   "metadata": {},
   "outputs": [
    {
     "name": "stdout",
     "output_type": "stream",
     "text": [
      "['MedInc', 'HouseAge', 'AveRooms', 'AveBedrms', 'Population', 'AveOccup', 'Latitude', 'Longitude']\n",
      "[   8.3252       41.            6.98412698    1.02380952  322.\n",
      "    2.55555556   37.88       -122.23      ]\n",
      "4.526\n"
     ]
    }
   ],
   "source": [
    "print(housing.feature_names)\n",
    "print(X[0])\n",
    "print(y[0])"
   ]
  },
  {
   "cell_type": "code",
   "execution_count": 8,
   "id": "516e1ae5-5d31-4634-9a8c-d4e9c0feee9d",
   "metadata": {},
   "outputs": [],
   "source": [
    "# from sklearn.model_selection import train_test_split  \n",
    "X_train, X_test, y_train, y_test = train_test_split(X, y, test_size=0.2, random_state=432)"
   ]
  },
  {
   "cell_type": "code",
   "execution_count": 9,
   "id": "f2db52aa-9718-40c7-9805-5cc014e35d84",
   "metadata": {},
   "outputs": [
    {
     "name": "stdout",
     "output_type": "stream",
     "text": [
      "['MedInc', 'HouseAge', 'AveRooms', 'AveBedrms', 'Population', 'AveOccup', 'Latitude', 'Longitude']\n",
      "[   2.1442       52.            3.94886364    1.03693182  921.\n",
      "    2.61647727   37.34       -121.88      ]\n",
      "1.889\n"
     ]
    }
   ],
   "source": [
    "print(housing.feature_names)\n",
    "print(X_train[0])\n",
    "print(y_train[0])"
   ]
  },
  {
   "cell_type": "code",
   "execution_count": 10,
   "id": "bb466366-5dcf-439c-848f-2b9d774d76da",
   "metadata": {},
   "outputs": [],
   "source": [
    "# from sklearn.linear_model import LinearRegression  \n",
    "\n",
    "model = LinearRegression()\n",
    "model.fit(X_train, y_train) \n",
    "\n",
    "y_pred = model.predict(X_test)"
   ]
  },
  {
   "cell_type": "code",
   "execution_count": 11,
   "id": "512f7ee4-00c8-4cf1-b353-7d82a4ccb08b",
   "metadata": {},
   "outputs": [
    {
     "name": "stdout",
     "output_type": "stream",
     "text": [
      "0.6080229586580346\n"
     ]
    }
   ],
   "source": [
    "# from sklearn.metrics import r2_score   \n",
    "r2 = r2_score(y_test, y_pred)\n",
    "print(r2)"
   ]
  },
  {
   "cell_type": "markdown",
   "id": "2f70e5f5-5dd6-4446-a9a1-2f2c29d62030",
   "metadata": {},
   "source": [
    "Baseline 60%"
   ]
  },
  {
   "cell_type": "code",
   "execution_count": 12,
   "id": "29bdf81e-464b-4af0-aee5-21474efbda9e",
   "metadata": {},
   "outputs": [
    {
     "name": "stdout",
     "output_type": "stream",
     "text": [
      "(20640, 8)\n",
      "(20640, 45)\n"
     ]
    }
   ],
   "source": [
    "# from sklearn.preprocessing import PolynomialFeatures   \n",
    "\n",
    "print(X.shape)\n",
    "poly = PolynomialFeatures()\n",
    "X = poly.fit_transform(X) \n",
    "print(X.shape)"
   ]
  },
  {
   "cell_type": "code",
   "execution_count": 13,
   "id": "a92b9123-2281-48e9-a77b-a5548398cdc4",
   "metadata": {},
   "outputs": [],
   "source": [
    "# from sklearn.ensemble import GradientBoostingRegressor, RandomForestRegressor  \n",
    "LR = LinearRegression()\n",
    "GBR = GradientBoostingRegressor()\n",
    "RFR = RandomForestRegressor(n_jobs=-1)\n",
    "# RFR = RandomForestRegressor(n_jobs=-1) \n",
    "# -1 use all cores \n",
    "# 1 use only one core, 5-use 5 cores"
   ]
  },
  {
   "cell_type": "code",
   "execution_count": 14,
   "id": "a9444797-be51-46c8-b444-92881abad2df",
   "metadata": {},
   "outputs": [
    {
     "name": "stdout",
     "output_type": "stream",
     "text": [
      "LinearRegression() 0.6080229586580346\n",
      "GradientBoostingRegressor() 0.7878126561044645\n",
      "RandomForestRegressor(n_jobs=-1) 0.8117447228289669\n"
     ]
    }
   ],
   "source": [
    "for i in [LR, GBR, RFR]: \n",
    "    i.fit(X_train, y_train)\n",
    "    y_pred = i.predict(X_test)\n",
    "    r2 = r2_score(y_test, y_pred)\n",
    "    print(i, r2)"
   ]
  },
  {
   "cell_type": "code",
   "execution_count": 15,
   "id": "341e53a3-e133-4ab6-ba56-63fe323e3a4e",
   "metadata": {},
   "outputs": [
    {
     "name": "stdout",
     "output_type": "stream",
     "text": [
      "LinearRegression() 0.6080229586580346\n",
      "GradientBoostingRegressor() 0.7878126561044645\n",
      "RandomForestRegressor(n_jobs=-1) 0.8133952446545532\n"
     ]
    }
   ],
   "source": [
    "for i in [LR, GBR, RFR]: \n",
    "    i.fit(X_train, y_train)\n",
    "    y_pred = i.predict(X_test)\n",
    "    r2 = r2_score(y_test, y_pred)\n",
    "    print(i, r2)"
   ]
  },
  {
   "cell_type": "code",
   "execution_count": 16,
   "id": "4b20ada4-00ee-4b6b-a9cc-ffa261269f25",
   "metadata": {},
   "outputs": [],
   "source": [
    "# Better version of GradientBoostingRegressor \n",
    "# from sklearn.ensemble import GradientBoostingRegressor, RandomForestRegressor, HistGradientBoostingRegressor\n",
    "HGBR = HistGradientBoostingRegressor()"
   ]
  },
  {
   "cell_type": "code",
   "execution_count": 17,
   "id": "604de4e6-b506-4566-96ec-f5bee4327033",
   "metadata": {},
   "outputs": [
    {
     "name": "stdout",
     "output_type": "stream",
     "text": [
      "100 0.8377250415185991\n",
      "150 0.841552196622102\n",
      "200 0.841840586516328\n",
      "250 0.8423016652861712\n",
      "300 0.8457792652269542\n",
      "350 0.8398773661488558\n",
      "400 0.8438909492019762\n",
      "450 0.8429458747317552\n",
      "500 0.839448972998493\n"
     ]
    }
   ],
   "source": [
    "for i in [100, 150, 200,250, 300, 350, 400, 450, 500]: \n",
    "    model =HistGradientBoostingRegressor(max_iter=i) \n",
    "    model.fit(X_train, y_train) \n",
    "    y_pred = model.predict(X_test) \n",
    "    r2 = r2_score(y_test, y_pred) \n",
    "    print(i, r2)"
   ]
  },
  {
   "cell_type": "markdown",
   "id": "0be11ce6-7fca-4b34-8987-2fbd6c47fdfc",
   "metadata": {},
   "source": [
    "### Hyper parameterization"
   ]
  },
  {
   "cell_type": "code",
   "execution_count": 18,
   "id": "7d3a76ae-4f70-4853-9dc2-40fd7aba4f56",
   "metadata": {},
   "outputs": [
    {
     "name": "stdout",
     "output_type": "stream",
     "text": [
      "200 0.1 0.8425153560862981\n",
      "250 0.1 0.8379465186565593\n",
      "300 0.1 0.841476208300911\n",
      "350 0.1 0.8458201153057721\n",
      "400 0.1 0.8396594993331298\n",
      "200 0.05 0.8368901167924542\n",
      "250 0.05 0.8378268945766411\n",
      "300 0.05 0.8404408352733663\n",
      "350 0.05 0.8458422073017402\n",
      "400 0.05 0.8432682449507686\n",
      "200 0.001 0.2210989798675259\n",
      "250 0.001 0.26111687873952794\n",
      "300 0.001 0.30067698311225166\n",
      "350 0.001 0.3358296999587095\n",
      "400 0.001 0.3706033092326828\n"
     ]
    }
   ],
   "source": [
    "# Learning rate  0.1, 0.01, 0.001\n",
    "\n",
    "for j in [0.1, 0.05, 0.001]:\n",
    "    for i in [200,250,300,350,400]: \n",
    "        model =HistGradientBoostingRegressor(max_iter=i, learning_rate=j) \n",
    "        model.fit(X_train, y_train) \n",
    "        y_pred = model.predict(X_test) \n",
    "        r2 = r2_score(y_test, y_pred) \n",
    "        print(i, j, r2)"
   ]
  },
  {
   "cell_type": "code",
   "execution_count": 19,
   "id": "cd36e3ca-df5b-44b3-ab2b-a85b437f034b",
   "metadata": {},
   "outputs": [
    {
     "name": "stdout",
     "output_type": "stream",
     "text": [
      "0.8420068818219365\n"
     ]
    }
   ],
   "source": [
    "# import joblib \n",
    "model = HistGradientBoostingRegressor(max_iter=350, learning_rate=0.05) \n",
    "model.fit(X_train, y_train) \n",
    "\n",
    "joblib.dump(model, \"my_model.joblib\")\n",
    "\n",
    "y_pred = model.predict(X_test) \n",
    "r2 = r2_score(y_test, y_pred) \n",
    "print(r2)"
   ]
  },
  {
   "cell_type": "code",
   "execution_count": 20,
   "id": "db93f9ae-9fb2-41b5-b1ca-d2b36c1b9c09",
   "metadata": {},
   "outputs": [
    {
     "name": "stdout",
     "output_type": "stream",
     "text": [
      "0.8420068818219365\n"
     ]
    }
   ],
   "source": [
    "local_model = joblib.load(\"my_model.joblib\")\n",
    "\n",
    "y_pred = local_model.predict(X_test) \n",
    "r2 = r2_score(y_test, y_pred)\n",
    "\n",
    "print(r2)"
   ]
  },
  {
   "cell_type": "code",
   "execution_count": null,
   "id": "32b4ebea-0bbb-405f-936f-b35a6582c3f6",
   "metadata": {},
   "outputs": [],
   "source": []
  }
 ],
 "metadata": {
  "kernelspec": {
   "display_name": "Python 3 (ipykernel)",
   "language": "python",
   "name": "python3"
  },
  "language_info": {
   "codemirror_mode": {
    "name": "ipython",
    "version": 3
   },
   "file_extension": ".py",
   "mimetype": "text/x-python",
   "name": "python",
   "nbconvert_exporter": "python",
   "pygments_lexer": "ipython3",
   "version": "3.11.4"
  }
 },
 "nbformat": 4,
 "nbformat_minor": 5
}
