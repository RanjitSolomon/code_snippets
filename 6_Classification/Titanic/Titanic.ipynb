{
 "cells": [
  {
   "cell_type": "markdown",
   "id": "935b7f9c-6c1c-4795-acc1-ba1eef12ddb0",
   "metadata": {},
   "source": [
    "pandas, numpy, scikit-learn, matplotlib, seaborn"
   ]
  },
  {
   "cell_type": "code",
   "execution_count": 2,
   "id": "16863b55-2619-46b7-a1c7-a92805ae3bb0",
   "metadata": {
    "tags": []
   },
   "outputs": [],
   "source": [
    "# import \n",
    "import pandas as pd\n",
    "import numpy as np\n",
    "\n",
    "from sklearn.model_selection import train_test_split, GridSearchCV \n",
    "from sklearn.preprocessing import MinMaxScaler \n",
    "from sklearn.neighbors import KNeighborsClassifier \n",
    "from sklearn.metrics import accuracy_score, confusion_matrix \n",
    "\n",
    "import matplotlib.pyplot as plt \n",
    "import seaborn as sns"
   ]
  },
  {
   "cell_type": "code",
   "execution_count": 21,
   "id": "6743d2d1-3b94-4463-8b33-183609192c65",
   "metadata": {},
   "outputs": [
    {
     "name": "stdout",
     "output_type": "stream",
     "text": [
      "<class 'pandas.core.frame.DataFrame'>\n",
      "RangeIndex: 891 entries, 0 to 890\n",
      "Data columns (total 12 columns):\n",
      " #   Column       Non-Null Count  Dtype  \n",
      "---  ------       --------------  -----  \n",
      " 0   PassengerId  891 non-null    int64  \n",
      " 1   Survived     891 non-null    int64  \n",
      " 2   Pclass       891 non-null    int64  \n",
      " 3   Name         891 non-null    object \n",
      " 4   Sex          891 non-null    object \n",
      " 5   Age          714 non-null    float64\n",
      " 6   SibSp        891 non-null    int64  \n",
      " 7   Parch        891 non-null    int64  \n",
      " 8   Ticket       891 non-null    object \n",
      " 9   Fare         891 non-null    float64\n",
      " 10  Cabin        204 non-null    object \n",
      " 11  Embarked     889 non-null    object \n",
      "dtypes: float64(2), int64(5), object(5)\n",
      "memory usage: 83.7+ KB\n"
     ]
    }
   ],
   "source": [
    "data = pd.read_csv(\"titanic.csv\") \n",
    "data.info()"
   ]
  },
  {
   "cell_type": "code",
   "execution_count": 22,
   "id": "6951032a-a230-4e11-9a3a-f212cf0fe4ce",
   "metadata": {},
   "outputs": [
    {
     "name": "stdout",
     "output_type": "stream",
     "text": [
      "PassengerId      0\n",
      "Survived         0\n",
      "Pclass           0\n",
      "Name             0\n",
      "Sex              0\n",
      "Age            177\n",
      "SibSp            0\n",
      "Parch            0\n",
      "Ticket           0\n",
      "Fare             0\n",
      "Cabin          687\n",
      "Embarked         2\n",
      "dtype: int64\n"
     ]
    }
   ],
   "source": [
    "print(data.isnull().sum())"
   ]
  },
  {
   "cell_type": "code",
   "execution_count": 23,
   "id": "fce99111-68fb-4536-98a2-28b055bd2884",
   "metadata": {},
   "outputs": [],
   "source": [
    "# Data Cleaning and Feature Engineering\n",
    "def preprocess_data(df):\n",
    "    print(df.columns)\n",
    "    df.drop(columns=[\"PassengerId\", \"Name\", \"Ticket\", \"Cabin\"], inplace=True) \n",
    "\n",
    "    df[\"Embarked\"].fillna(\"S\", inplace=True)  # Three ports, C, Q, S, last port is S - only 2 are missing\n",
    "    df.drop(columns=[\"Embarked\"], inplace=True)  \n",
    "\n",
    "    fill_missing_ages(df)\n",
    "    \n",
    "    # Convert Gender \n",
    "    df[\"Sex\"] = df[\"Sex\"].map({'male':1, \"female\":0}) \n",
    "\n",
    "    # Feature Engineering \n",
    "    df[\"FamilySize\"] = df[\"SibSp\"] + df[\"Parch\"]   # Sibling size, Parch-parents\n",
    "    df[\"IsAlone\"] = np.where(df[\"FamilySize\"] == 0, 1, 0)   # if familysize if 0 then 1 else 0   \n",
    "    df[\"FareBin\"] = pd.qcut(df[\"Fare\"], 4, labels=False)  # create bins for Fares  \n",
    "    df[\"AgeBin\"] = pd.cut(df[\"Age\"], bins=[0,12,20, 40, 60, np.inf], labels=False)\n",
    "\n",
    "    return df"
   ]
  },
  {
   "cell_type": "code",
   "execution_count": 24,
   "id": "d1c073fd-5613-48fb-a88c-520d9901ec4e",
   "metadata": {},
   "outputs": [],
   "source": [
    "# Fill in missing ages\n",
    "\n",
    "def fill_missing_ages(df): \n",
    "    age_fill_map = {} \n",
    "    for pclass in df[\"Pclass\"].unique(): \n",
    "        if pclass not in age_fill_map:\n",
    "            age_fill_map[pclass] = df[df[\"Pclass\"] == pclass][\"Age\"].median() \n",
    "\n",
    "    df[\"Age\"] =df.apply(lambda row: age_fill_map[row[\"Pclass\"]] if pd.isnull(row[\"Age\"]) else row[\"Age\"], axis=1) \n",
    "    # apply a custom function. lambda function target the key \"row\", apply only if row is null \n",
    "    \n",
    "    "
   ]
  },
  {
   "cell_type": "code",
   "execution_count": 25,
   "id": "eef9e194-f47a-4602-aeac-ac8393c84886",
   "metadata": {},
   "outputs": [
    {
     "name": "stdout",
     "output_type": "stream",
     "text": [
      "Index(['PassengerId', 'Survived', 'Pclass', 'Name', 'Sex', 'Age', 'SibSp',\n",
      "       'Parch', 'Ticket', 'Fare', 'Cabin', 'Embarked'],\n",
      "      dtype='object')\n"
     ]
    },
    {
     "name": "stderr",
     "output_type": "stream",
     "text": [
      "C:\\Users\\R\\AppData\\Local\\Temp\\ipykernel_17012\\885674945.py:6: FutureWarning: A value is trying to be set on a copy of a DataFrame or Series through chained assignment using an inplace method.\n",
      "The behavior will change in pandas 3.0. This inplace method will never work because the intermediate object on which we are setting values always behaves as a copy.\n",
      "\n",
      "For example, when doing 'df[col].method(value, inplace=True)', try using 'df.method({col: value}, inplace=True)' or df[col] = df[col].method(value) instead, to perform the operation inplace on the original object.\n",
      "\n",
      "\n",
      "  df[\"Embarked\"].fillna(\"S\", inplace=True)  # Three ports, C, Q, S, last port is S - only 2 are missing\n"
     ]
    }
   ],
   "source": [
    "# Update data \n",
    "data = preprocess_data(data)"
   ]
  },
  {
   "cell_type": "code",
   "execution_count": 26,
   "id": "879ccb33-fe8a-4756-b2bf-92e563e62da1",
   "metadata": {},
   "outputs": [],
   "source": [
    "# Create Features / Target Variables (Make Flashcards)\n",
    "X = data.drop(columns=[\"Survived\"])\n",
    "y = data[\"Survived\"]"
   ]
  },
  {
   "cell_type": "code",
   "execution_count": 27,
   "id": "19c3b0b4-bdb0-46fd-9019-a7bf3396263e",
   "metadata": {},
   "outputs": [],
   "source": [
    "X_train, X_test, y_train, y_test = train_test_split(X, y, test_size=0.25, random_state=42)"
   ]
  },
  {
   "cell_type": "code",
   "execution_count": null,
   "id": "f1a4e249-0772-4698-b348-0b3c533daa7c",
   "metadata": {},
   "outputs": [],
   "source": [
    "# ML Preprocessing \n",
    "scaler = MinMaxScaler()\n",
    "X_train = scaler.fit_transform(X_train) \n",
    "X_test = scaler.transform(X_test)"
   ]
  },
  {
   "cell_type": "code",
   "execution_count": 33,
   "id": "b6cae7c9-88ce-4b78-b5bd-72669c231eb5",
   "metadata": {},
   "outputs": [],
   "source": [
    "# Hyperparameter Tuning \n",
    "def tune_model(X_train, y_train): \n",
    "    param_grid = {\n",
    "        \"n_neighbors\": range(1,21),\n",
    "        \"metric\": [\"euclidean\", \"manhattan\", \"minkowski\"],\n",
    "        \"weights\": [\"uniform\", \"distance\"]\n",
    "    }\n",
    "    model = KNeighborsClassifier() \n",
    "    grid_search = GridSearchCV(model, param_grid, cv=5, n_jobs=-1) # cross validation\n",
    "    grid_search.fit(X_train, y_train)\n",
    "    return grid_search.best_estimator_"
   ]
  },
  {
   "cell_type": "markdown",
   "id": "07510193-6f20-4d2c-aa1c-cd199d1481df",
   "metadata": {},
   "source": [
    "ValueError: Invalid parameter 'metrics' for estimator KNeighborsClassifier(). Valid parameters are: ['algorithm', 'leaf_size', 'metric', 'metric_params', 'n_jobs', 'n_neighbors', 'p', 'weights']."
   ]
  },
  {
   "cell_type": "code",
   "execution_count": 34,
   "id": "c26fffcf-362b-4a26-990c-e032b9cb4613",
   "metadata": {},
   "outputs": [],
   "source": [
    "best_model = tune_model(X_train, y_train)"
   ]
  },
  {
   "cell_type": "code",
   "execution_count": 35,
   "id": "5283030a-3861-497a-bdf8-6d5373ad93a8",
   "metadata": {},
   "outputs": [],
   "source": [
    "# Predictions and evaluate\n",
    "def evaluate_model(model, X_text, y_test): \n",
    "    prediction = model.predict(X_test) \n",
    "    accuracy = accuracy_score(y_test, prediction) \n",
    "    matrix = confusion_matrix(y_test, prediction) \n",
    "    return accuracy, matrix"
   ]
  },
  {
   "cell_type": "code",
   "execution_count": 36,
   "id": "2d925457-81aa-4b8f-8d26-111ec61f383d",
   "metadata": {},
   "outputs": [],
   "source": [
    "accuracy, matrix = evaluate_model(best_model, X_test, y_test)"
   ]
  },
  {
   "cell_type": "code",
   "execution_count": 41,
   "id": "1ff44cc4-c788-4ee9-8e62-485fcee4dc6a",
   "metadata": {},
   "outputs": [
    {
     "name": "stdout",
     "output_type": "stream",
     "text": [
      "Accuracy: 72.65%\n",
      "Confusion Matrix:\n",
      "[[108  26]\n",
      " [ 35  54]]\n"
     ]
    }
   ],
   "source": [
    "print(f\"Accuracy: {accuracy*100:.2f}%\") \n",
    "print(f\"Confusion Matrix:\") \n",
    "print(matrix)"
   ]
  },
  {
   "cell_type": "code",
   "execution_count": 42,
   "id": "38e8a29e-4f5f-4223-a25a-5faa70fc3370",
   "metadata": {},
   "outputs": [],
   "source": [
    "# Plot\n",
    "def plot_model(matrix):\n",
    "    plt.figure(figsize=(10,7)) \n",
    "    sns.heatmap(matrix, annot=True, fmt=\"d\", xticklabels=[\"Survived\", \"Not Survived\"], yticklabels=[\"Not Survived\", \"Survived\"]) \n",
    "    plt.title(\"Confusion Matrix\")\n",
    "    plt.xlabel(\"Pedicted value\")\n",
    "    plt.ylabel(\"True Values\")\n",
    "    plt.show()"
   ]
  },
  {
   "cell_type": "code",
   "execution_count": 43,
   "id": "9bad932c-7c8d-46a2-a09e-168d4c2408cb",
   "metadata": {},
   "outputs": [
    {
     "data": {
      "image/png": "[encoded data removed]",
      "text/plain": [
       "<Figure size 1000x700 with 2 Axes>"
      ]
     },
     "metadata": {},
     "output_type": "display_data"
    }
   ],
   "source": [
    "plot_model(matrix)"
   ]
  },
  {
   "cell_type": "markdown",
   "id": "cb181972-b6ce-45a0-97d2-cdb98ca801c0",
   "metadata": {},
   "source": [
    "[](confusion_matrix.jpg)   "
   ]
  },
  {
   "cell_type": "markdown",
   "id": "4ef9acff-69be-492d-9d9e-4d3844277302",
   "metadata": {},
   "source": [
    "[]('confusion_matrix.jpg')"
   ]
  },
  {
   "cell_type": "markdown",
   "id": "1e2fffcb-5918-4763-913e-fbb4d9e85741",
   "metadata": {},
   "source": [
    "<img src=\"confusion_matrix.jpg\" />"
   ]
  },
  {
   "cell_type": "code",
   "execution_count": null,
   "id": "2f01ecb8-2b7a-41f2-9c96-1c836207ac95",
   "metadata": {},
   "outputs": [],
   "source": []
  }
 ],
 "metadata": {
  "kernelspec": {
   "display_name": "Python 3 (ipykernel)",
   "language": "python",
   "name": "python3"
  },
  "language_info": {
   "codemirror_mode": {
    "name": "ipython",
    "version": 3
   },
   "file_extension": ".py",
   "mimetype": "text/x-python",
   "name": "python",
   "nbconvert_exporter": "python",
   "pygments_lexer": "ipython3",
   "version": "3.11.3"
  }
 },
 "nbformat": 4,
 "nbformat_minor": 5
}
